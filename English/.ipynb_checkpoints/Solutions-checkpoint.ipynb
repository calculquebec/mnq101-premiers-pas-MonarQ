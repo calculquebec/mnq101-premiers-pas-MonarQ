{
 "cells": [
  {
   "cell_type": "markdown",
   "metadata": {},
   "source": [
    "# SOLUTIONS"
   ]
  },
  {
   "cell_type": "code",
   "execution_count": 18,
   "metadata": {},
   "outputs": [],
   "source": [
    "import pennylane as qml\n",
    "import numpy as np"
   ]
  },
  {
   "cell_type": "markdown",
   "metadata": {},
   "source": [
    "## NOTEBOOK 1"
   ]
  },
  {
   "cell_type": "code",
   "execution_count": null,
   "metadata": {},
   "outputs": [],
   "source": [
    "#EXERCISE 1\n",
    "def qubit_state(alpha, beta):\n",
    "    \"\"\"\n",
    "    Creates a qubit state |ψ⟩ based on the coefficients alpha and beta.\n",
    "    \n",
    "    Args:\n",
    "        alpha (complex): Amplitude of |0⟩\n",
    "        beta (complex): Amplitude of |1⟩\n",
    "        \n",
    "    Returns:\n",
    "       numpy.ndarray: The state vector |ψ⟩\n",
    "    \"\"\"\n",
    "    # Define the basis states |0⟩ and |1⟩\n",
    "    ket_0 = np.array([1, 0])\n",
    "    ket_1 = np.array([0, 1])\n",
    "    \n",
    "    # Construct the state |ψ⟩\n",
    "    psi = alpha * ket_0 + beta * ket_1\n",
    "\n",
    "    # Return the state \n",
    "    return psi\n"
   ]
  },
  {
   "cell_type": "code",
   "execution_count": null,
   "metadata": {},
   "outputs": [],
   "source": [
    "#Exercise 2\n",
    "def is_normalized(state):  \n",
    "    \"\"\"Checks if a state is normalized.  \n",
    "\n",
    "    Args:  \n",
    "        state (np.array): Qubit state (2-dimensional vector)\n",
    "\n",
    "    Returns:  \n",
    "        Bool: True if the vector is normalized, False otherwise.  \n",
    "    \"\"\"  \n",
    "    norm = np.abs(state[0])**2 + np.abs(state[1])**2  # Complete this line  \n",
    "    return np.isclose(norm, 1)  \n"
   ]
  },
  {
   "cell_type": "code",
   "execution_count": null,
   "metadata": {},
   "outputs": [],
   "source": [
    "#Exercise 3\n",
    "def apply_H(state, H):\n",
    "    \"\"\"\n",
    "    Applies a quantum gate (unitary matrix) to a given qubit state.\n",
    "    \n",
    "    Args:\n",
    "        state (np.array): Qubit state (2-dimensional vector)\n",
    "        H (np.array): 2x2 unitary matrix representing the Hadamard gate\n",
    "        \n",
    "    Returns:\n",
    "        np.array: New qubit state after applying the matrix H \n",
    "    \"\"\"\n",
    "    # Apply the quantum gate to the qubit state and return the new state\n",
    "    return np.dot(H, state)\n"
   ]
  },
  {
   "cell_type": "code",
   "execution_count": null,
   "metadata": {},
   "outputs": [],
   "source": [
    "#EXERCISE 4\n",
    "def measurement_probabilities(state):  \n",
    "    \"\"\"Computes the probabilities of measuring |0⟩ and |1⟩ from a given quantum state.  \n",
    "\n",
    "    Args:  \n",
    "        state (np.array): Vector representing the qubit state.  \n",
    "\n",
    "    Returns:  \n",
    "        tuple: Probabilities (P0, P1) corresponding to the measurements |0⟩ and |1⟩.  \n",
    "    \"\"\"  \n",
    "    P0 = np.conj(state[0]) * state[0]\n",
    "    P1 = np.conj(state[1]) * state[1] \n",
    "    return P0, P1  \n"
   ]
  },
  {
   "cell_type": "code",
   "execution_count": null,
   "metadata": {},
   "outputs": [],
   "source": [
    "#EXERCISE 5\n",
    "def simulate_measurements(probs, num_samples):  \n",
    "    \"\"\"Simulates quantum measurements by sampling from the probability distribution of a quantum state.  \n",
    "\n",
    "    Args:  \n",
    "        probs (tuple): Probabilities of measuring |0⟩ and |1⟩.  \n",
    "        num_samples (int): Number of measurements to simulate.  \n",
    "\n",
    "    Returns:  \n",
    "        dict: Number of occurrences of each result (0 or 1).  \n",
    "    \"\"\"  \n",
    "    results = np.random.choice([0, 1], p=probs, size=num_samples)  \n",
    "    \n",
    "    return dict(zip(*np.unique(results, return_counts=True)))  \n"
   ]
  },
  {
   "cell_type": "markdown",
   "metadata": {},
   "source": [
    "## NOTEBOOK 2"
   ]
  },
  {
   "cell_type": "code",
   "execution_count": 6,
   "metadata": {},
   "outputs": [],
   "source": [
    "#EXERCICE 1\n",
    "dev = qml.device(\"default.qubit\", wires = 2)\n",
    "@qml.qnode(dev)\n",
    "def circuit():\n",
    "    qml.Hadamard(wires = 0)\n",
    "    qml.CNOT(wires = [0,1])\n",
    "    return qml.state()"
   ]
  },
  {
   "cell_type": "code",
   "execution_count": 9,
   "metadata": {},
   "outputs": [],
   "source": [
    "#Exercice 2\n",
    "\n",
    "dev = qml.device('default.qubit', wires = 2)\n",
    "@qml.qnode(dev)\n",
    "def psi_moins():\n",
    " \n",
    "    qml.PauliX(wires = 0)\n",
    "    qml.Hadamard(wires = 0)\n",
    "    qml.CNOT(wires = [0,1])\n",
    "    return qml.state()\n",
    "\n",
    "@qml.qnode(dev)\n",
    "def phi_plus():\n",
    "\n",
    "  qml.Hadamard(wires = 0)\n",
    "  qml.CNOT(wires = [0,1])\n",
    "  qml.PauliX(wires = 0)\n",
    "  return qml.state()\n",
    "\n",
    "@qml.qnode(dev)\n",
    "def phi_moins():\n",
    "\n",
    "  qml.Hadamard(wires = 0)\n",
    "  qml.CNOT(wires = [0,1])\n",
    "  qml.Z(wires = 0)\n",
    "  qml.X(wires = 1)\n",
    "  return qml.state()\n"
   ]
  },
  {
   "cell_type": "code",
   "execution_count": 17,
   "metadata": {},
   "outputs": [],
   "source": [
    "#EXERCICE 3\n",
    "dev = qml.device('default.qubit', wires=1)\n",
    "@qml.qnode(dev)\n",
    "def prepare_with_gate():\n",
    "  qml.RX(np.pi/3, wires = 0)\n",
    "  return qml.state()\n",
    "\n",
    "state = np.array([np.sqrt(3)/2, -0.5j])\n",
    "\n",
    "@qml.qnode(dev)\n",
    "def prepare_with_StatePrep(state):\n",
    "  qml.StatePrep(state=state, wires=0)\n",
    "  return qml.state()\n"
   ]
  },
  {
   "cell_type": "code",
   "execution_count": null,
   "metadata": {},
   "outputs": [],
   "source": [
    "#Exercice 4\n",
    "dev = qml.device('default.qubit', wires = 1)\n",
    "@qml.qnode(dev)\n",
    "def circuit():\n",
    "\n",
    "    qml.Hadamard(wires = 0)\n",
    "    qml.Z(wires = 0)\n",
    "\n",
    "    return qml.expval(qml.Z(wires = 0))\n",
    "    \n",
    "print(circuit())"
   ]
  },
  {
   "cell_type": "markdown",
   "metadata": {},
   "source": [
    "## NOTEBOOK 3"
   ]
  },
  {
   "cell_type": "code",
   "execution_count": null,
   "metadata": {},
   "outputs": [],
   "source": [
    "def ghz():\n",
    "    qml.Hadamard(wires=0)\n",
    "    qml.CNOT(wires=[0, 1])\n",
    "    qml.CNOT(wires=[0, 2])\n",
    "    qml.CNOT(wires=[0, 3])\n",
    "\n",
    "def ghz_manuel():\n",
    "    qml.Hadamard(wires=4)\n",
    "    qml.CNOT(wires=[4, 0])\n",
    "    qml.CNOT(wires=[4, 8])\n",
    "    qml.CNOT(wires=[4, 1]) "
   ]
  },
  {
   "cell_type": "markdown",
   "metadata": {},
   "source": [
    "## NOTEBOOK 4"
   ]
  },
  {
   "cell_type": "code",
   "execution_count": null,
   "metadata": {},
   "outputs": [],
   "source": [
    "def bernstein_vazirani(s):\n",
    "    \"\"\"\n",
    "    Implements the first four steps of the Bernstein-Vazirani algorithm.\n",
    "\n",
    "    Parameters:\n",
    "    s (str): The secret binary string to be determined.\n",
    "\n",
    "    This function applies steps 1 to 4 described above.\n",
    "    \"\"\"\n",
    "    n_qubits = len(s)\n",
    "\n",
    "    # Step 1-2: Initialization and superposition creation\n",
    "    for i in range(n_qubits):\n",
    "        qml.Hadamard(wires=i)\n",
    "\n",
    "    qml.PauliX(wires=n_qubits)  # Apply X on the auxiliary qubit\n",
    "    qml.Hadamard(wires=n_qubits)  # Apply Hadamard on the auxiliary qubit\n",
    "\n",
    "    # Step 3: Oracle application\n",
    "    for i in range(n_qubits):\n",
    "        if s[i] == '1':\n",
    "            qml.CNOT(wires=[i, n_qubits])  # Apply CNOT if the corresponding bit of `s` is 1\n",
    "\n",
    "    # Step 4: Hadamard transformation on the input qubits\n",
    "    for i in range(n_qubits):\n",
    "        qml.Hadamard(wires=i)\n"
   ]
  },
  {
   "cell_type": "code",
   "execution_count": null,
   "metadata": {},
   "outputs": [],
   "source": [
    "\n",
    "     "
   ]
  }
 ],
 "metadata": {
  "kernelspec": {
   "display_name": "NENV",
   "language": "python",
   "name": "nenv"
  },
  "language_info": {
   "codemirror_mode": {
    "name": "ipython",
    "version": 3
   },
   "file_extension": ".py",
   "mimetype": "text/x-python",
   "name": "python",
   "nbconvert_exporter": "python",
   "pygments_lexer": "ipython3",
   "version": "3.12.7"
  }
 },
 "nbformat": 4,
 "nbformat_minor": 4
}
