{
 "cells": [
  {
   "cell_type": "markdown",
   "metadata": {
    "id": "pGE3xmiMpDv7"
   },
   "source": [
    "Nature is quantum mechanical, and the language we use to describe quantum mechanics is linear algebra. In this chapter, we will explore the basics of quantum information by building a quantum simulator, built entirely on simple linear algebra.\n",
    "\n",
    "We will use very small examples, so that our simulator can perform all calculations exactly. Using the best computers in the world, we can simulate up to about 50 qubits."
   ]
  },
  {
   "cell_type": "markdown",
   "metadata": {
    "id": "hT9EFX4kjd16"
   },
   "source": [
    "# Dirac notation\n",
    "Qubits are represented by statevectors. We use **dirac notation** **(bra-ket notation)** to tidy up notation.\n",
    "\\\n",
    "The $\\vert \\cdot \\rangle$ is called a ket and represents a column vector.\n",
    "\n",
    "\\begin{equation}\n",
    "\\vert 0 \\rangle = \\begin{pmatrix}\n",
    "  1 \\\\\n",
    "  0 \\\\\n",
    "\\end{pmatrix}, \\vert 1 \\rangle = \\begin{pmatrix}\n",
    "  0 \\\\\n",
    "  1 \\\\\n",
    "\\end{pmatrix}\n",
    "\\end{equation}\n",
    "\n",
    "The $\\langle \\cdot \\vert $ is called a bra. It is a row vector.\n",
    "\n",
    "\\begin{equation}\n",
    "\\vert 0 \\rangle = \\begin{pmatrix}1 \\ 0 \\end{pmatrix},\n",
    "\\vert 1 \\rangle = \\begin{pmatrix}  0 \\ 1 \\end{pmatrix}\n",
    "\\end{equation}\n",
    "\n",
    "The **bra** is the **conjugate transpose** (Hermitian conjugate) of the corresponding **ket**:  \n",
    "\\begin{equation}\n",
    "\\vert \\psi\\rangle = \\begin{bmatrix} \\alpha \\\\ \\beta \\end{bmatrix} \\quad \\Rightarrow \\quad \\langle \\psi | = \\begin{bmatrix} \\alpha^* & \\beta^* \\end{bmatrix}.\n",
    "\\end{equation}\n",
    "The * represents the [complex conjugate](https://en.wikipedia.org/wiki/Complex_conjugate).\n",
    "This compact notation makes it easy to describe and manipulate quantum states mathematically!"
   ]
  },
  {
   "cell_type": "code",
   "execution_count": 10,
   "metadata": {
    "id": "d9tDT3aHoX-4"
   },
   "outputs": [],
   "source": [
    "import numpy as np\n",
    "#In Python, we can define vectors using numpy arrays\n",
    "ket_0 = np.array([1,0])\n",
    "ket_1 = np.array([0,1])"
   ]
  },
  {
   "cell_type": "markdown",
   "metadata": {
    "id": "JG7Tktv0mN0y"
   },
   "source": [
    "# Superposition\n",
    "A classical bit can only exist in a 0 or 1 state, but a qubit can exist in a linear combination of the basis states $\\vert 0 \\rangle$ or $\\vert 1 \\rangle$ (among others). This property is called **superposition**.\n",
    "\n",
    "\\begin{equation}\n",
    "\\vert \\psi \\rangle = \\alpha \\vert 0 \\rangle + \\beta \\vert 1 \\rangle\n",
    "\\end{equation}\n",
    "with $\\alpha$, $\\beta$ $ \\in \\mathbb{C}$ and $\\alpha^* \\alpha + \\beta^* \\beta = 1$. The * represents the [complex conjugate](https://en.wikipedia.org/wiki/Complex_conjugate).\n",
    "\n",
    "Despite qubits being in a linear combination of states, when measuring the qubit, for example at the end of an algorithm, it will only ever be measured in $\\vert 0 \\rangle$ or $\\vert 1 \\rangle$."
   ]
  },
  {
   "cell_type": "code",
   "execution_count": 11,
   "metadata": {
    "colab": {
     "base_uri": "https://localhost:8080/"
    },
    "id": "5rDVuTLhodqV",
    "outputId": "91e29782-8043-4f8d-c05e-9dccba6077d2"
   },
   "outputs": [
    {
     "name": "stdout",
     "output_type": "stream",
     "text": [
      "[0.5+0.j        0. +0.8660254j]\n",
      "[0.5-0.j        0. -0.8660254j]\n"
     ]
    }
   ],
   "source": [
    "# Define amplitude coefficients\n",
    "# Make sure that alpha^*alpha + beta^* beta = 1\n",
    "alpha = 1/2.0\n",
    "beta = np.sqrt(3)/2* 1j\n",
    "\n",
    "#Define your superposition state (linear combination)\n",
    "psi = alpha*ket_0 + beta*ket_1\n",
    "print(psi)\n",
    "print(np.conj(psi))"
   ]
  },
  {
   "cell_type": "markdown",
   "metadata": {},
   "source": [
    "To visualize this, we use the **Bloch sphere**, a geometric representation of a qubit's state. Any pure state can be represented as a point on the surface of the sphere, defined by two angles:\n",
    "\n",
    "$\\theta$ : Specifies the angle between the state and the $\\vert{0} \\rangle$ axis (north pole)\n",
    "\n",
    "$\\phi$ : Specifies the rotation around the z-axis. \n",
    "\n",
    "For example, $\\vert 0 \\rangle$ is the north pole ($\\theta = 0$) while $\\vert 1\\rangle$ is the south pole ($\\theta = \\pi$). \n",
    "A general superposition lies somewhere on the sphere's surface.\n",
    "\n",
    "ADD IMAGE + MAYBE QTIP CODE \n"
   ]
  },
  {
   "cell_type": "markdown",
   "metadata": {},
   "source": [
    "# Operations on qubit"
   ]
  },
  {
   "cell_type": "markdown",
   "metadata": {},
   "source": [
    "Ok we have qubits, they can be in superpositions of $\\vert 0 \\rangle$ and $\\vert 1 \\rangle$ and we can visualize them on the Bloch sphere. What exactly can we do to with them? We can apply **operations** on them. These are matrices that modify the state of the qubit, in other words, they move the qubit across the Bloch sphere. Let's try it. "
   ]
  },
  {
   "cell_type": "markdown",
   "metadata": {},
   "source": [
    "We will start with the most simple qubit state, state $\\vert \\psi \\rangle = \\vert 0 \\rangle$. As is, this is not a superposition state. It initially points up on the Bloch sphere. \n",
    "What happens if we apply the following matrix to our qubit state? \n",
    "\n",
    "\\begin{equation}\n",
    "H = \\frac{1}{\\sqrt{2}}\\begin{pmatrix} \n",
    "1 & -1\\\\\n",
    "1 & 1\n",
    "\\end{pmatrix}\n",
    "\\end{equation}"
   ]
  },
  {
   "cell_type": "markdown",
   "metadata": {},
   "source": [
    "EXERCICE\n",
    "\n",
    "---\n",
    "\n",
    "Apply the H matrix to a qubit in state $\\vert \\psi \\rangle = \\vert 0 \\rangle$. You can use  [`np.dot()`](https://numpy.org/doc/2.1/reference/generated/numpy.dot.html) to perform the dot product between two arrays."
   ]
  },
  {
   "cell_type": "code",
   "execution_count": 12,
   "metadata": {},
   "outputs": [
    {
     "name": "stdout",
     "output_type": "stream",
     "text": [
      "[0.70710678 0.70710678]\n"
     ]
    }
   ],
   "source": [
    "#Define state 0\n",
    "ket_0 = np.array([1,0])\n",
    "\n",
    "#Define the matrix H\n",
    "H = 1/np.sqrt(2)*np.array([[1,-1], [1,1]])\n",
    "\n",
    "#Apply the operation to the qubit\n",
    "new_ket = np.dot(H, ket_0)\n",
    "print(new_ket)"
   ]
  },
  {
   "cell_type": "markdown",
   "metadata": {},
   "source": [
    "To print the new statevector in Dirac notation, use the helper function `print_state_vector()` as below. "
   ]
  },
  {
   "cell_type": "code",
   "execution_count": 13,
   "metadata": {},
   "outputs": [
    {
     "data": {
      "text/markdown": [
       "$$\\left|\\psi\\right\\rangle = (0.707107) \\left|{0}\\right\\rangle + (0.707107) \\left|{1}\\right\\rangle$$"
      ],
      "text/plain": [
       "<IPython.core.display.Markdown object>"
      ]
     },
     "metadata": {},
     "output_type": "display_data"
    }
   ],
   "source": [
    "from print_latex import print_state_vector\n",
    "\n",
    "print_state_vector(new_ket)"
   ]
  },
  {
   "cell_type": "markdown",
   "metadata": {},
   "source": [
    "\\begin{equation}\n",
    "H \\vert 0 \\rangle  = \\frac{1}{\\sqrt{2}}\\begin{pmatrix} \n",
    "1 & -1\\\\\n",
    "1 & 1\n",
    "\\end{pmatrix}\\begin{pmatrix} 0 \\\\1\\end{pmatrix} = \\frac{1}{\\sqrt{2}}\\begin{pmatrix} 1 \\\\1\\end{pmatrix}  = \\frac{1}{\\sqrt{2}}(\\vert 0 \\rangle + \\vert 1 \\rangle)\n",
    "\\end{equation}\n",
    "ADD IMAGE BLOCH SPHERE OR QTIP\n",
    "\n",
    "We have created a superposition state by applying a carefully selected matrix to our initial qubit state. This is a special matrix in quantum computing called a **Hadamard gate**. We will discuss it more in the next chapter. \n",
    "\n",
    "Applying matrices to vectors might seem abstract but this is something we can do quite precisely by sending pulses to qubits. This all happens in the background, so when using a quantum computer like MonarQ, we are abstracted away from pulses. "
   ]
  },
  {
   "cell_type": "markdown",
   "metadata": {},
   "source": [
    "# Probability amplitudes\n",
    "\n",
    "Consider the general superposition,\n",
    "\\begin{equation}\n",
    "\\vert \\psi \\rangle = \\alpha \\vert 0 \\rangle + \\beta \\vert 1 \\rangle.\n",
    "\\end{equation}\n",
    "\n",
    "Upon measurement, we will measure the qubit as being in state $\\vert 0 \\rangle$ with probability $\\alpha^* \\alpha$ and in $\\vert 1 \\rangle$ with probability $\\beta^* \\beta$. This is a postulate of quantum mechanics! We will use the modulus squared notation $\\vert \\cdot \\vert ^2 $ to denote the probability amplitudes.\n",
    "\n",
    "\\begin{equation}\n",
    "P(\\vert 0 \\rangle) = \\vert \\alpha \\vert ^2 = \\alpha^* \\alpha \n",
    "\\end{equation}\n",
    "\\begin{equation}\n",
    "P(\\vert 1 \\rangle) = \\vert \\beta \\vert ^2 = \\beta^* \\beta\n",
    "\\end{equation}\n"
   ]
  },
  {
   "cell_type": "markdown",
   "metadata": {},
   "source": [
    "EXERCICE\n",
    "\n",
    "---\n",
    "\n",
    "Consider the superposition state from the last exercice\n",
    "\n",
    "\\begin{equation}\n",
    "\\vert \\psi \\rangle = \\frac{1}{\\sqrt{2}}\\vert 0 \\rangle + \\frac{1}{\\sqrt{2}} \\vert 1 \\rangle.\n",
    "\\end{equation}\n",
    "\n",
    "Compute the probability $P_0$ of measuring $\\vert{0}\\rangle$ and the probability $P_1$ of measuring $\\vert{1}\\rangle$."
   ]
  },
  {
   "cell_type": "code",
   "execution_count": 34,
   "metadata": {},
   "outputs": [
    {
     "name": "stdout",
     "output_type": "stream",
     "text": [
      "0.4999999999999999 0.4999999999999999\n"
     ]
    }
   ],
   "source": [
    "#Compute the probability P0 of measuring \\ket(0)\n",
    "P0 = np.conj(new_ket[0])*(new_ket[0])\n",
    "#Compute the probability P1 of measuring \\ket(1) \n",
    "P1 = np.conj(new_ket[1])*(new_ket[1])\n",
    "\n",
    "print(P0, P1)\n",
    "\n",
    "probs = np.conj(new_ket)*new_ket"
   ]
  },
  {
   "cell_type": "markdown",
   "metadata": {},
   "source": [
    "So we will measure $\\vert 0 \\rangle$ 50% of the time and $\\vert 1 \\rangle$ the other 50% of the time. Quantum computation is probabilistic."
   ]
  },
  {
   "cell_type": "markdown",
   "metadata": {
    "id": "Bf6wwc-EqD7k"
   },
   "source": [
    "Surprisingly, this is all you need to build a basic quantum simulator. "
   ]
  },
  {
   "cell_type": "markdown",
   "metadata": {},
   "source": [
    "EXERCICE\n",
    "\n",
    "---\n",
    "\n",
    "Use [np.random.choice()](https://numpy.org/doc/2.1/reference/random/generated/numpy.random.choice.html) to simulate the results of 1000 measurements by sampling from the probability distribution you found above.\n"
   ]
  },
  {
   "cell_type": "code",
   "execution_count": 43,
   "metadata": {},
   "outputs": [
    {
     "data": {
      "text/plain": [
       "(array([0, 1]), array([489, 511]))"
      ]
     },
     "execution_count": 43,
     "metadata": {},
     "output_type": "execute_result"
    }
   ],
   "source": [
    "res = np.random.choice([0, 1], p = probs, size = 1000)\n",
    "np.unique(res, return_counts = True)"
   ]
  },
  {
   "cell_type": "markdown",
   "metadata": {},
   "source": [
    "This was a very simple example, especially because we did everything with **one** qubit. Multi-qubit systems are more complicated. In particular, they can be **entangled** with each other. We will study multi-qubit systems in the next chapter with quantum circuits. "
   ]
  },
  {
   "cell_type": "code",
   "execution_count": null,
   "metadata": {},
   "outputs": [],
   "source": []
  }
 ],
 "metadata": {
  "colab": {
   "provenance": []
  },
  "kernelspec": {
   "display_name": "Python 3 (ipykernel)",
   "language": "python",
   "name": "python3"
  },
  "language_info": {
   "codemirror_mode": {
    "name": "ipython",
    "version": 3
   },
   "file_extension": ".py",
   "mimetype": "text/x-python",
   "name": "python",
   "nbconvert_exporter": "python",
   "pygments_lexer": "ipython3",
   "version": "3.9.1"
  }
 },
 "nbformat": 4,
 "nbformat_minor": 4
}
