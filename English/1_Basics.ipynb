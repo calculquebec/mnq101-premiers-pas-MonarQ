{
  "nbformat": 4,
  "nbformat_minor": 0,
  "metadata": {
    "colab": {
      "provenance": []
    },
    "kernelspec": {
      "name": "python3",
      "display_name": "Python 3"
    },
    "language_info": {
      "name": "python"
    }
  },
  "cells": [
    {
      "cell_type": "code",
      "execution_count": null,
      "metadata": {
        "id": "9JleyyrQRu2t"
      },
      "outputs": [],
      "source": [
        "import numpy as np"
      ]
    },
    {
      "cell_type": "markdown",
      "source": [
        "Nature is quantum mechanical, and the language we use to describe quantum mechanics is linear algebra. In this chapter, we will explore the basics of quantum information by building a quantum simulator, built entirely on simple linear algebra.\n",
        "\n",
        "We will use very small examples, so that our simulator can perform all calculations exactly. Using the best computers in the world, we can simulate up to about 50 qubits."
      ],
      "metadata": {
        "id": "pGE3xmiMpDv7"
      }
    },
    {
      "cell_type": "markdown",
      "source": [
        "#Dirac notation\n",
        "Qubits are represented by statevectors. We use dirac notation (bra-ket notation) to tidy up notation.\n",
        "\\\n",
        "The $\\vert \\cdot \\rangle$ is called a ket and represents a column vector.\n",
        "\n",
        "\\begin{equation}\n",
        "\\vert 0 \\rangle = \\begin{pmatrix}\n",
        "  1 \\\\\n",
        "  0 \\\\\n",
        "\\end{pmatrix}, \\vert 1 \\rangle = \\begin{pmatrix}\n",
        "  0 \\\\\n",
        "  1 \\\\\n",
        "\\end{pmatrix}\n",
        "\\end{equation}\n",
        "\n",
        "The $\\langle \\cdot \\vert $ is called a bra. It is a row vector.\n",
        "\n",
        "\\begin{equation}\n",
        "\\vert 0 \\rangle = \\begin{pmatrix}1 \\ 0 \\end{pmatrix},\n",
        "\\vert 1 \\rangle = \\begin{pmatrix}  0 \\ 1 \\end{pmatrix}\n",
        "\\end{equation}"
      ],
      "metadata": {
        "id": "hT9EFX4kjd16"
      }
    },
    {
      "cell_type": "code",
      "source": [
        "#In Python, we can define vectors using numpy arrays\n",
        "ket_0 = np.array([1,0])\n",
        "ket_1 = np.array([0,1])"
      ],
      "metadata": {
        "id": "d9tDT3aHoX-4"
      },
      "execution_count": null,
      "outputs": []
    },
    {
      "cell_type": "markdown",
      "source": [
        "# Superposition\n",
        "A classical bit can only exist in a 0 or 1 state, but a qubit can exist in a linear combination of states $\\vert 0 \\rangle$ or $\\vert 1 \\rangle$ (among others). This property is called **superposition**.\n",
        "\n",
        "\\begin{equation}\n",
        "\\vert \\psi \\rangle = \\alpha \\vert 0 \\rangle + \\beta \\vert 1 \\rangle\n",
        "\\end{equation}\n",
        "with $\\alpha$, $\\beta$ $ \\in \\mathbb{C}$ and $\\alpha^* \\alpha + \\beta^* \\beta = 1$. The * represents the [complex conjugate](https://en.wikipedia.org/wiki/Complex_conjugate).\n",
        "\n",
        "Despite qubits being in a linear combination of states, when measuring the qubit, for example at the end of an algorithm, it will only ever be measured in $\\vert 0 \\rangle$ or $\\vert 1 \\rangle$."
      ],
      "metadata": {
        "id": "JG7Tktv0mN0y"
      }
    },
    {
      "cell_type": "code",
      "source": [
        "# Define amplitude coefficients\n",
        "# Make sure that alpha^*alpha + beta^* beta = 1\n",
        "alpha = 1/2.0\n",
        "beta = np.sqrt(3)/2* 1j\n",
        "\n",
        "#Define your superposition state (linear combination)\n",
        "psi = alpha*ket_0 + beta*ket_1\n",
        "print(psi)\n",
        "print(np.conj(psi))"
      ],
      "metadata": {
        "colab": {
          "base_uri": "https://localhost:8080/"
        },
        "id": "5rDVuTLhodqV",
        "outputId": "91e29782-8043-4f8d-c05e-9dccba6077d2"
      },
      "execution_count": null,
      "outputs": [
        {
          "output_type": "stream",
          "name": "stdout",
          "text": [
            "[0.5+0.j        0. +0.8660254j]\n",
            "[0.5-0.j        0. -0.8660254j]\n"
          ]
        }
      ]
    },
    {
      "cell_type": "markdown",
      "source": [
        "# Probability amplitudes\n",
        "\n"
      ],
      "metadata": {
        "id": "LPOeOZeTmrWb"
      }
    },
    {
      "cell_type": "markdown",
      "source": [
        "Consider the general superposition,\n",
        "\\begin{equation}\n",
        "\\vert \\psi \\rangle = \\alpha \\vert 0 \\rangle + \\beta \\vert 1 \\rangle.\n",
        "\\end{equation}\n",
        "\n",
        "Upon measurement, we will measure the qubit as being in state $\\vert 0 \\rangle$ with probability $\\alpha^* \\alpha$ and in $\\vert 1 \\rangle$ with probability $\\beta^* \\beta$. This is a postulate of quantum mechanics! We will use the modulus squared notation $\\vert \\cdot \\vert ^2 $ to denote the probability amplitudes.\n",
        "\n",
        "\\begin{equation}\n",
        "P(\\vert 0 \\rangle) = \\vert \\alpha \\vert ^2 = \\alpha^* \\alpha\\\\\n",
        "P(\\vert 1 \\rangle) = \\vert \\beta \\vert ^2 = \\beta^* \\beta\n",
        "\\end{equation}\n"
      ],
      "metadata": {
        "id": "eTcE_q51mq4a"
      }
    },
    {
      "cell_type": "code",
      "source": [
        "np.dot(np.conj(psi), psi)"
      ],
      "metadata": {
        "colab": {
          "base_uri": "https://localhost:8080/"
        },
        "id": "_cM2YwNLo1l9",
        "outputId": "687c6eb6-6cb4-4301-d67e-d6b73600be2c"
      },
      "execution_count": null,
      "outputs": [
        {
          "output_type": "execute_result",
          "data": {
            "text/plain": [
              "(0.9999999999999999+0j)"
            ]
          },
          "metadata": {},
          "execution_count": 11
        }
      ]
    },
    {
      "cell_type": "code",
      "source": [
        "np.conj(psi)"
      ],
      "metadata": {
        "colab": {
          "base_uri": "https://localhost:8080/"
        },
        "id": "IFfryEkvp1bd",
        "outputId": "d08a0708-fb93-43f4-9dc3-ef1ec5e58325"
      },
      "execution_count": null,
      "outputs": [
        {
          "output_type": "execute_result",
          "data": {
            "text/plain": [
              "array([0.5-0.j       , 0. -0.8660254j])"
            ]
          },
          "metadata": {},
          "execution_count": 13
        }
      ]
    },
    {
      "cell_type": "code",
      "source": [],
      "metadata": {
        "id": "Bf6wwc-EqD7k"
      },
      "execution_count": null,
      "outputs": []
    }
  ]
}