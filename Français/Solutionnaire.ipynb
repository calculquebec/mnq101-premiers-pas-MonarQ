{
 "cells": [
  {
   "cell_type": "markdown",
   "metadata": {},
   "source": [
    "# SOLUTIONNAIRE"
   ]
  },
  {
   "cell_type": "code",
   "execution_count": null,
   "metadata": {},
   "outputs": [],
   "source": [
    "import pennylane as qml"
   ]
  },
  {
   "cell_type": "markdown",
   "metadata": {},
   "source": [
    "## NOTEBOOK 1"
   ]
  },
  {
   "cell_type": "markdown",
   "metadata": {},
   "source": [
    "## NOTEBOOK 2"
   ]
  },
  {
   "cell_type": "markdown",
   "metadata": {},
   "source": [
    "## NOTEBOOK 3"
   ]
  },
  {
   "cell_type": "code",
   "execution_count": null,
   "metadata": {},
   "outputs": [],
   "source": [
    "def ghz():\n",
    "    qml.Hadamard(wires=0)\n",
    "    qml.CNOT(wires=[0, 1])\n",
    "    qml.CNOT(wires=[0, 2])\n",
    "    qml.CNOT(wires=[0, 3])\n",
    "\n",
    "def ghz_manuel():\n",
    "    qml.Hadamard(wires=4)\n",
    "    qml.CNOT(wires=[4, 0])\n",
    "    qml.CNOT(wires=[4, 8])\n",
    "    qml.CNOT(wires=[4, 1]) "
   ]
  },
  {
   "cell_type": "markdown",
   "metadata": {},
   "source": [
    "## NOTEBOOK 4"
   ]
  },
  {
   "cell_type": "code",
   "execution_count": null,
   "metadata": {},
   "outputs": [],
   "source": [
    "def bernstein_vazirani(s):\n",
    "    \"\"\"\n",
    "    Implémente les quatre premières étapes de l'algorithme de Bernstein-Vazirani.\n",
    "\n",
    "    Paramètres :\n",
    "    s (str) : La chaîne binaire secrète à déterminer.\n",
    "\n",
    "    Cette fonction applique les étapes 1 à 4 décrites ci-haut.\n",
    "    \"\"\"\n",
    "    n_qubits = len(s)\n",
    "\n",
    "    # Étape 1-2 : Initialisation et création de superposition\n",
    "    for i in range(n_qubits):\n",
    "        qml.Hadamard(wires=i)\n",
    "\n",
    "    qml.PauliX(wires=n_qubits)  # Appliquer X sur le qubit auxiliaire\n",
    "    qml.Hadamard(wires=n_qubits)  # Appliquer Hadamard sur le qubit auxiliaire\n",
    "\n",
    "    # Étape 3 : Application de l'oracle\n",
    "    for i in range(n_qubits):\n",
    "        if s[i] == '1':\n",
    "            qml.CNOT(wires=[i, n_qubits])  # Appliquer CNOT si le bit correspondant de `s` est 1\n",
    "\n",
    "    # Étape 4 : Transformation de Hadamard sur les qubits d'entrée\n",
    "    for i in range(n_qubits):\n",
    "        qml.Hadamard(wires=i)"
   ]
  },
  {
   "cell_type": "code",
   "execution_count": null,
   "metadata": {},
   "outputs": [],
   "source": [
    "\n",
    "     "
   ]
  }
 ],
 "metadata": {
  "kernelspec": {
   "display_name": "base",
   "language": "python",
   "name": "python3"
  },
  "language_info": {
   "name": "python",
   "version": "3.12.2"
  }
 },
 "nbformat": 4,
 "nbformat_minor": 2
}
