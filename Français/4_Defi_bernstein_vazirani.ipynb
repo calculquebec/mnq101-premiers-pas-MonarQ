{
 "cells": [
  {
   "cell_type": "markdown",
   "metadata": {
    "id": "rEbUa4LZb9Ep"
   },
   "source": [
    "# Défi récapitulatif : l'algorithme de Bernstein-Vazirani\n",
    "\n",
    "Vous allez maintenant mettre en pratique tout ce que vous avez appris sur la programmation quantique en relevant le défi suivant. L'objectif est d'implémenter l'algorithme de Bernstein-Vazirani. Cet algorithme quantique permet de découvrir une chaîne binaire cachée $s$ de longueur $n$ en une seule évaluation de la fonction oracle $ f(x)$, là où un algorithme classique nécessiterait $n$ évaluations. Cet algorithme montre un avantage quantique clair pour certains problèmes de calcul.\n",
    "\n",
    "## Contexte et Problème\n",
    "\n",
    "L'algorithme résout le problème suivant : étant donné une fonction booléenne $f(x)$ définie sur des chaînes binaires $x$ de longueur $n$, la fonction $f(x)$ est linéaire et de la forme :\n",
    "\n",
    "\\begin{align}\n",
    "       f(x) = s \\cdot x = s_0 x_0 \\oplus s_1 x_1 \\oplus \\cdots \\oplus s_{n-1} x_{n-1}\n",
    "    \\end{align}\n",
    "\n",
    "\n",
    "\n",
    "où $ s = (s_0, s_1, \\dots, s_{n-1}) $ est une chaîne binaire fixe inconnue, et $ \\oplus $ représente l'addition modulo 2, le résultat est donc 0 ou 1.\n",
    "\n",
    "\\begin{align}\n",
    "       1 \\oplus 0 = 0 \\oplus 1=1\n",
    "          \\end{align}\n",
    "\n",
    "\\begin{align}\n",
    "       1 \\oplus 1 =0 \\oplus 0=0\n",
    "          \\end{align}\n",
    "\n",
    "\n",
    "**But** : Trouver la chaîne binaire $ s $ en une seule évaluation de la fonction $ f(x) $.\n",
    "\n",
    "## Étapes de l'algorithme\n",
    "\n",
    "### 1. Préparation des qubits\n",
    "\n",
    "Nous commençons avec $ n $ qubits d'entrée initialisés à l'état $ |0\\rangle $ et un qubit auxiliaire initialisé à l'état $ |1\\rangle $. L'état initial est donc:\n",
    "\\begin{align}\n",
    "       |0\\rangle^{\\otimes n} |1\\rangle   \n",
    "    \\end{align}\n",
    "\n",
    "\n",
    "### 2. Superposition\n",
    "\n",
    "Appliquez une porte Hadamard $ H $ à chaque qubit d'entrée. La porte Hadamard transforme un qubit dans l'état $ |0\\rangle $ en une superposition égale de $ |0\\rangle $ et $ |1\\rangle $ :\n",
    "\n",
    "\\begin{align}\n",
    "        H|0\\rangle = \\frac{1}{\\sqrt{2}} (|0\\rangle + |1\\rangle)    \n",
    "    \\end{align}\n",
    "\n",
    "\n",
    "Appliquée à tous les qubits, cela produit l'état superposé suivant pour les $n $ qubits d'entrée :\n",
    "\n",
    "\\begin{align}\n",
    "        \\frac{1}{\\sqrt{2^n}} \\sum_{x=0}^{2^n-1} |x\\rangle\n",
    "    \\end{align}\n",
    "\n",
    "\n",
    "\n",
    "Le qubit auxiliaire reste dans l'état $|1\\rangle $, transformé en $ \\frac{1}{\\sqrt{2}} (|0\\rangle - |1\\rangle)$ par une porte Hadamard.\n",
    "\n",
    "### 3. Application de l'oracle\n",
    "\n",
    "L'oracle est une boîte noire qui implémente la fonction $ f(x) $. Cette fonction est telle que $ f(x) = s \\cdot x $, où $ s $ est la chaîne binaire inconnue que nous voulons découvrir. L'oracle applique une porte CNOT conditionnelle à chaque qubit d'entrée en fonction de $ s $. Si le bit $ s_i $ de $ s $ est 1, alors l'oracle applique une porte CNOT contrôlée par le qubit d'entrée $ x_i $ et cible le qubit auxiliaire.\n",
    "\n",
    "Après l'application de l'oracle, l'état des qubits devient :\n",
    "\\begin{align}\n",
    "        \\frac{1}{\\sqrt{2^n}} \\sum_{x=0}^{2^n-1} (-1)^{s \\cdot x} |x\\rangle\n",
    "    \\end{align}\n",
    "\n",
    "\n",
    "Exemple d'application de l'oracle:\n",
    "Soit $s=101$, l'oracle appliquera donc deux portes CNOT (une entre le 1er qubit et le qubit auxiliaire et une entre le 3e qubit et le qubit auxilaire).\n",
    "\n",
    "L'état superposé\n",
    "\\begin{align}\n",
    "\\frac{1}{\\sqrt{8}} (\\vert 000 \\rangle + \\vert 001 \\rangle + \\vert 010 \\rangle + \\vert 011 \\rangle + \\vert 100 \\rangle + \\vert 101 \\rangle + \\vert 110 \\rangle + \\vert 111 \\rangle)\n",
    "\\end{align}\n",
    "\n",
    "devient alors\n",
    "\\begin{align}\n",
    "\\frac{1}{\\sqrt{8}} (\\vert 000 \\rangle - \\vert 001 \\rangle + \\vert 010 \\rangle - \\vert 011 \\rangle - \\vert 100 \\rangle + \\vert 101 \\rangle - \\vert 110 \\rangle + \\vert 111 \\rangle)\n",
    "\\end{align}\n",
    "\n",
    "\n",
    "\n",
    "### 4. Transformation Hadamard inverse\n",
    "\n",
    "Appliquez à nouveau la porte Hadamard à chaque qubit d'entrée. Cette opération inverse la transformation Hadamard initiale et \"concentre\" la superposition sur un seul état binaire, qui correspond à la chaîne $ s $.\n",
    "\n",
    "Après l'application de cette transformation, l'état des qubits d'entrée est directement $|s\\rangle $.\n",
    "\n",
    "### 5. Mesure\n",
    "\n",
    "Mesurez les $n $ qubits d'entrée. Le résultat de la mesure sera la chaîne binaire $ s $, que vous cherchiez.\n",
    "\n",
    "\n",
    "\n",
    "\n",
    "\n",
    "\n"
   ]
  },
  {
   "cell_type": "markdown",
   "metadata": {
    "id": "8zIhio1_gpIs"
   },
   "source": [
    "# Exercice\n",
    "\n",
    "Implémentez l'algorithme de Berstein-Vazirani en suivant les cinq étapes mentionnées plus haut. Définissez une chaîne binaire $s$ à 3 qubits, votre algorithme quantique doit retrouver cette chaîne et dessiner le circuit utilisé."
   ]
  },
  {
   "cell_type": "markdown",
   "metadata": {
    "id": "ISjFOqUb_OXw"
   },
   "source": []
  },
  {
   "cell_type": "code",
   "execution_count": null,
   "metadata": {
    "id": "62JqSU-F_ogx"
   },
   "outputs": [],
   "source": []
  }
 ],
 "metadata": {
  "colab": {
   "provenance": []
  },
  "kernelspec": {
   "display_name": "Python 3 (ipykernel)",
   "language": "python",
   "name": "python3"
  },
  "language_info": {
   "codemirror_mode": {
    "name": "ipython",
    "version": 3
   },
   "file_extension": ".py",
   "mimetype": "text/x-python",
   "name": "python",
   "nbconvert_exporter": "python",
   "pygments_lexer": "ipython3",
   "version": "3.9.1"
  }
 },
 "nbformat": 4,
 "nbformat_minor": 4
}
